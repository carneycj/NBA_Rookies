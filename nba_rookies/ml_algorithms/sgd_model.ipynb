{
 "metadata": {
  "language_info": {
   "codemirror_mode": {
    "name": "ipython",
    "version": 3
   },
   "file_extension": ".py",
   "mimetype": "text/x-python",
   "name": "python",
   "nbconvert_exporter": "python",
   "pygments_lexer": "ipython3",
   "version": "3.7.9-final"
  },
  "orig_nbformat": 2,
  "kernelspec": {
   "name": "python3",
   "display_name": "Python 3"
  }
 },
 "nbformat": 4,
 "nbformat_minor": 2,
 "cells": [
  {
   "source": [
    "# Stochastic Gradient Descent Machine Learning Model"
   ],
   "cell_type": "markdown",
   "metadata": {}
  },
  {
   "cell_type": "code",
   "execution_count": 1,
   "metadata": {},
   "outputs": [],
   "source": [
    "import os\n",
    "import pandas as pd"
   ]
  },
  {
   "cell_type": "code",
   "execution_count": 4,
   "metadata": {},
   "outputs": [
    {
     "output_type": "execute_result",
     "data": {
      "text/plain": [
       "   rk           player                     debut  age  yrs   g    mp   fg  \\\n",
       "0   1     Rafer Alston  Feb 17, '00, MIL vs. IND   23   11  27   361   27   \n",
       "1   2    Chucky Atkins     Nov 2, '99, ORL @ CHH   25   11  82  1626  314   \n",
       "2   3    William Avery  Nov 13, '99, MIN vs. PHO   20    3  59   484   56   \n",
       "3   4  Jonathan Bender  Dec 10, '99, IND vs. CLE   19    8  24   130   23   \n",
       "4   5     Calvin Booth    Mar 25, '00, WAS @ DAL   23   10  11   143   16   \n",
       "\n",
       "   fga  threes  ...  pts  fg_pct  threes_pct  ft_pct  mp_pg  pts_pg  trb_pg  \\\n",
       "0   95       3  ...   60   0.284       0.214   0.750   13.4     2.2     0.9   \n",
       "1  741      57  ...  782   0.424       0.350   0.729   19.8     9.5     1.5   \n",
       "2  181      18  ...  154   0.309       0.286   0.667    8.2     2.6     0.7   \n",
       "3   70       2  ...   64   0.329       0.167   0.667    5.4     2.7     0.9   \n",
       "4   46       0  ...   42   0.348       0.000   0.714   13.0     3.8     2.9   \n",
       "\n",
       "   ast_pg   yr1  retired  \n",
       "0     2.6  2000        1  \n",
       "1     3.7  2000        1  \n",
       "2     1.5  2000        1  \n",
       "3     0.1  2000        1  \n",
       "4     0.6  2000        1  \n",
       "\n",
       "[5 rows x 30 columns]"
      ],
      "text/html": "<div>\n<style scoped>\n    .dataframe tbody tr th:only-of-type {\n        vertical-align: middle;\n    }\n\n    .dataframe tbody tr th {\n        vertical-align: top;\n    }\n\n    .dataframe thead th {\n        text-align: right;\n    }\n</style>\n<table border=\"1\" class=\"dataframe\">\n  <thead>\n    <tr style=\"text-align: right;\">\n      <th></th>\n      <th>rk</th>\n      <th>player</th>\n      <th>debut</th>\n      <th>age</th>\n      <th>yrs</th>\n      <th>g</th>\n      <th>mp</th>\n      <th>fg</th>\n      <th>fga</th>\n      <th>threes</th>\n      <th>...</th>\n      <th>pts</th>\n      <th>fg_pct</th>\n      <th>threes_pct</th>\n      <th>ft_pct</th>\n      <th>mp_pg</th>\n      <th>pts_pg</th>\n      <th>trb_pg</th>\n      <th>ast_pg</th>\n      <th>yr1</th>\n      <th>retired</th>\n    </tr>\n  </thead>\n  <tbody>\n    <tr>\n      <th>0</th>\n      <td>1</td>\n      <td>Rafer Alston</td>\n      <td>Feb 17, '00, MIL vs. IND</td>\n      <td>23</td>\n      <td>11</td>\n      <td>27</td>\n      <td>361</td>\n      <td>27</td>\n      <td>95</td>\n      <td>3</td>\n      <td>...</td>\n      <td>60</td>\n      <td>0.284</td>\n      <td>0.214</td>\n      <td>0.750</td>\n      <td>13.4</td>\n      <td>2.2</td>\n      <td>0.9</td>\n      <td>2.6</td>\n      <td>2000</td>\n      <td>1</td>\n    </tr>\n    <tr>\n      <th>1</th>\n      <td>2</td>\n      <td>Chucky Atkins</td>\n      <td>Nov 2, '99, ORL @ CHH</td>\n      <td>25</td>\n      <td>11</td>\n      <td>82</td>\n      <td>1626</td>\n      <td>314</td>\n      <td>741</td>\n      <td>57</td>\n      <td>...</td>\n      <td>782</td>\n      <td>0.424</td>\n      <td>0.350</td>\n      <td>0.729</td>\n      <td>19.8</td>\n      <td>9.5</td>\n      <td>1.5</td>\n      <td>3.7</td>\n      <td>2000</td>\n      <td>1</td>\n    </tr>\n    <tr>\n      <th>2</th>\n      <td>3</td>\n      <td>William Avery</td>\n      <td>Nov 13, '99, MIN vs. PHO</td>\n      <td>20</td>\n      <td>3</td>\n      <td>59</td>\n      <td>484</td>\n      <td>56</td>\n      <td>181</td>\n      <td>18</td>\n      <td>...</td>\n      <td>154</td>\n      <td>0.309</td>\n      <td>0.286</td>\n      <td>0.667</td>\n      <td>8.2</td>\n      <td>2.6</td>\n      <td>0.7</td>\n      <td>1.5</td>\n      <td>2000</td>\n      <td>1</td>\n    </tr>\n    <tr>\n      <th>3</th>\n      <td>4</td>\n      <td>Jonathan Bender</td>\n      <td>Dec 10, '99, IND vs. CLE</td>\n      <td>19</td>\n      <td>8</td>\n      <td>24</td>\n      <td>130</td>\n      <td>23</td>\n      <td>70</td>\n      <td>2</td>\n      <td>...</td>\n      <td>64</td>\n      <td>0.329</td>\n      <td>0.167</td>\n      <td>0.667</td>\n      <td>5.4</td>\n      <td>2.7</td>\n      <td>0.9</td>\n      <td>0.1</td>\n      <td>2000</td>\n      <td>1</td>\n    </tr>\n    <tr>\n      <th>4</th>\n      <td>5</td>\n      <td>Calvin Booth</td>\n      <td>Mar 25, '00, WAS @ DAL</td>\n      <td>23</td>\n      <td>10</td>\n      <td>11</td>\n      <td>143</td>\n      <td>16</td>\n      <td>46</td>\n      <td>0</td>\n      <td>...</td>\n      <td>42</td>\n      <td>0.348</td>\n      <td>0.000</td>\n      <td>0.714</td>\n      <td>13.0</td>\n      <td>3.8</td>\n      <td>2.9</td>\n      <td>0.6</td>\n      <td>2000</td>\n      <td>1</td>\n    </tr>\n  </tbody>\n</table>\n<p>5 rows × 30 columns</p>\n</div>"
     },
     "metadata": {},
     "execution_count": 4
    }
   ],
   "source": [
    "df = pd.read_csv(os.path.join('..', '..', 'data', 'rookies_stats.csv'))\n",
    "df.head()"
   ]
  },
  {
   "cell_type": "code",
   "execution_count": null,
   "metadata": {},
   "outputs": [],
   "source": [
    "X_train, X_val, y_train, y_val = train_test_split(df_prepped.drop('lasts', axis=1), df_prepped['lasts'], test_size=.4, random_state=56)\n",
    "X_val, X_test, y_val, y_test = train_test_split(X_val, y_val, test_size=.5, random_state=92)"
   ]
  }
 ]
}